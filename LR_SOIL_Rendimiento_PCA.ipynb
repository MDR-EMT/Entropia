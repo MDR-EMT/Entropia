{
  "nbformat": 4,
  "nbformat_minor": 0,
  "metadata": {
    "kernelspec": {
      "display_name": "Python 3",
      "language": "python",
      "name": "python3"
    },
    "language_info": {
      "codemirror_mode": {
        "name": "ipython",
        "version": 3
      },
      "file_extension": ".py",
      "mimetype": "text/x-python",
      "name": "python",
      "nbconvert_exporter": "python",
      "pygments_lexer": "ipython3",
      "version": "3.7.4"
    },
    "colab": {
      "name": "LR_SOIL_Rendimiento_PCA.ipynb",
      "provenance": []
    }
  },
  "cells": [
    {
      "cell_type": "markdown",
      "metadata": {
        "id": "eZMQuO-MbEMq",
        "colab_type": "text"
      },
      "source": [
        "# Librerias"
      ]
    },
    {
      "cell_type": "code",
      "metadata": {
        "id": "xYG7H7qFbEMr",
        "colab_type": "code",
        "colab": {}
      },
      "source": [
        "import pandas as pd\n",
        "import numpy as np\n",
        "import matplotlib.pyplot as plt\n",
        "import statsmodels.api as sm\n",
        "\n",
        "from sklearn.linear_model import LinearRegression\n",
        "from sklearn.metrics import r2_score\n",
        "from sklearn import preprocessing"
      ],
      "execution_count": null,
      "outputs": []
    },
    {
      "cell_type": "markdown",
      "metadata": {
        "id": "XRVM2QzDbEMu",
        "colab_type": "text"
      },
      "source": [
        "## Cargado de Data"
      ]
    },
    {
      "cell_type": "code",
      "metadata": {
        "id": "RhoYVUsjbEMu",
        "colab_type": "code",
        "colab": {}
      },
      "source": [
        "data = pd.read_csv(\"soil_Rendimiento_PCA3.csv\")"
      ],
      "execution_count": null,
      "outputs": []
    },
    {
      "cell_type": "code",
      "metadata": {
        "id": "MR0_V_vybEMx",
        "colab_type": "code",
        "colab": {},
        "outputId": "44f8b326-bd30-4f8e-c23f-b659badf194d"
      },
      "source": [
        "data.head(5)"
      ],
      "execution_count": null,
      "outputs": [
        {
          "output_type": "execute_result",
          "data": {
            "text/html": [
              "<div>\n",
              "<style scoped>\n",
              "    .dataframe tbody tr th:only-of-type {\n",
              "        vertical-align: middle;\n",
              "    }\n",
              "\n",
              "    .dataframe tbody tr th {\n",
              "        vertical-align: top;\n",
              "    }\n",
              "\n",
              "    .dataframe thead th {\n",
              "        text-align: right;\n",
              "    }\n",
              "</style>\n",
              "<table border=\"1\" class=\"dataframe\">\n",
              "  <thead>\n",
              "    <tr style=\"text-align: right;\">\n",
              "      <th></th>\n",
              "      <th>Area</th>\n",
              "      <th>N</th>\n",
              "      <th>P205</th>\n",
              "      <th>K2SO4</th>\n",
              "      <th>CaO</th>\n",
              "      <th>MgO</th>\n",
              "      <th>Zn</th>\n",
              "      <th>Qfe</th>\n",
              "      <th>Rendimiento</th>\n",
              "    </tr>\n",
              "  </thead>\n",
              "  <tbody>\n",
              "    <tr>\n",
              "      <td>0</td>\n",
              "      <td>0.87</td>\n",
              "      <td>171</td>\n",
              "      <td>47</td>\n",
              "      <td>157</td>\n",
              "      <td>20</td>\n",
              "      <td>31.0</td>\n",
              "      <td>8.0</td>\n",
              "      <td>2.0</td>\n",
              "      <td>12067.0</td>\n",
              "    </tr>\n",
              "    <tr>\n",
              "      <td>1</td>\n",
              "      <td>0.87</td>\n",
              "      <td>175</td>\n",
              "      <td>47</td>\n",
              "      <td>177</td>\n",
              "      <td>20</td>\n",
              "      <td>40.0</td>\n",
              "      <td>8.0</td>\n",
              "      <td>2.0</td>\n",
              "      <td>18219.0</td>\n",
              "    </tr>\n",
              "    <tr>\n",
              "      <td>2</td>\n",
              "      <td>0.87</td>\n",
              "      <td>197</td>\n",
              "      <td>54</td>\n",
              "      <td>181</td>\n",
              "      <td>99</td>\n",
              "      <td>35.5</td>\n",
              "      <td>1.2</td>\n",
              "      <td>2.0</td>\n",
              "      <td>14090.0</td>\n",
              "    </tr>\n",
              "    <tr>\n",
              "      <td>3</td>\n",
              "      <td>0.87</td>\n",
              "      <td>197</td>\n",
              "      <td>54</td>\n",
              "      <td>171</td>\n",
              "      <td>99</td>\n",
              "      <td>38.0</td>\n",
              "      <td>1.2</td>\n",
              "      <td>2.0</td>\n",
              "      <td>10320.0</td>\n",
              "    </tr>\n",
              "    <tr>\n",
              "      <td>4</td>\n",
              "      <td>0.87</td>\n",
              "      <td>188</td>\n",
              "      <td>54</td>\n",
              "      <td>171</td>\n",
              "      <td>99</td>\n",
              "      <td>38.0</td>\n",
              "      <td>1.2</td>\n",
              "      <td>0.2</td>\n",
              "      <td>9340.0</td>\n",
              "    </tr>\n",
              "  </tbody>\n",
              "</table>\n",
              "</div>"
            ],
            "text/plain": [
              "   Area    N  P205  K2SO4  CaO   MgO   Zn  Qfe  Rendimiento\n",
              "0  0.87  171    47    157   20  31.0  8.0  2.0      12067.0\n",
              "1  0.87  175    47    177   20  40.0  8.0  2.0      18219.0\n",
              "2  0.87  197    54    181   99  35.5  1.2  2.0      14090.0\n",
              "3  0.87  197    54    171   99  38.0  1.2  2.0      10320.0\n",
              "4  0.87  188    54    171   99  38.0  1.2  0.2       9340.0"
            ]
          },
          "metadata": {
            "tags": []
          },
          "execution_count": 3
        }
      ]
    },
    {
      "cell_type": "markdown",
      "metadata": {
        "id": "_2iiZD5NbEM0",
        "colab_type": "text"
      },
      "source": [
        "## Especificacion de Atributos y Objetivo"
      ]
    },
    {
      "cell_type": "code",
      "metadata": {
        "id": "GA0MBei1bEM0",
        "colab_type": "code",
        "colab": {},
        "outputId": "46a7568e-b10a-4ae6-d8bf-6e2663492d50"
      },
      "source": [
        "Xs = data.drop(['Rendimiento'], axis=1) # Atributos\n",
        "y = data['Rendimiento'].values.reshape(-1,1) # Objetivo\n",
        "reg = LinearRegression() # Regresion Lineal\n",
        "reg.fit(Xs, y) # Entrenamiento de Y respecto a X's"
      ],
      "execution_count": null,
      "outputs": [
        {
          "output_type": "execute_result",
          "data": {
            "text/plain": [
              "LinearRegression(copy_X=True, fit_intercept=True, n_jobs=None, normalize=False)"
            ]
          },
          "metadata": {
            "tags": []
          },
          "execution_count": 4
        }
      ]
    },
    {
      "cell_type": "markdown",
      "metadata": {
        "id": "Y2TMLEfybEM7",
        "colab_type": "text"
      },
      "source": [
        "## Interceptos y Coeficientes"
      ]
    },
    {
      "cell_type": "code",
      "metadata": {
        "id": "OtgdR0JkbEM7",
        "colab_type": "code",
        "colab": {},
        "outputId": "b900eab4-0aa7-497f-a153-3ef5774230cb"
      },
      "source": [
        "print(\"Rendimiento\")\n",
        "print(\"Interceptos: \\n\",reg.intercept_,\"\\n\")\n",
        "print(\"Coeficiente: \\n\",reg.coef_)\n",
        "print(\"\\n\")"
      ],
      "execution_count": null,
      "outputs": [
        {
          "output_type": "stream",
          "text": [
            "Rendimiento\n",
            "Interceptos: \n",
            " [171395.84181367] \n",
            "\n",
            "Coeficiente: \n",
            " [[ 15772.98944354   -496.046875      -70.18791534    897.91651786\n",
            "   -2033.05074799    -78.73392857 -25762.34624975   4647.92215278]]\n",
            "\n",
            "\n"
          ],
          "name": "stdout"
        }
      ]
    },
    {
      "cell_type": "markdown",
      "metadata": {
        "id": "y36zuOocbEM9",
        "colab_type": "text"
      },
      "source": [
        "## Modelo de Regrecion Lineal"
      ]
    },
    {
      "cell_type": "code",
      "metadata": {
        "id": "lH_WsunubEM-",
        "colab_type": "code",
        "colab": {},
        "outputId": "6b96316b-0bdf-4fe8-f2cd-fef09220640d"
      },
      "source": [
        "print(\"El Modelo Resultante:\\nRendimiento = {:.5} + {:.5}*Area + {:.5}*N + {:.5}*P205 + {:.5}*K2SO4 + {:.5}*CaO + {:.5}*MgO + {:.5}*Zn +{:.5}*Qfe\"\n",
        "      .format(\n",
        "          reg.intercept_[0],\n",
        "          reg.coef_[0][0],reg.coef_[0][1],\n",
        "          reg.coef_[0][2],reg.coef_[0][3],\n",
        "          reg.coef_[0][4],reg.coef_[0][5],\n",
        "          reg.coef_[0][6],reg.coef_[0][7]))"
      ],
      "execution_count": null,
      "outputs": [
        {
          "output_type": "stream",
          "text": [
            "El Modelo Resultante:\n",
            "Rendimiento = 1.714e+05 + 1.5773e+04*Area + -496.05*N + -70.188*P205 + 897.92*K2SO4 + -2033.1*CaO + -78.734*MgO + -2.5762e+04*Zn +4647.9*Qfe\n"
          ],
          "name": "stdout"
        }
      ]
    },
    {
      "cell_type": "markdown",
      "metadata": {
        "id": "t9E0M_ygbENB",
        "colab_type": "text"
      },
      "source": [
        "## Precisión del Modelo"
      ]
    },
    {
      "cell_type": "code",
      "metadata": {
        "id": "227Wr6aPbENB",
        "colab_type": "code",
        "colab": {},
        "outputId": "62f7ca3e-e31c-4b96-84f5-aea18dba646b"
      },
      "source": [
        "# Es la proporción de la varianza en la variable dependiente que es predecible a partir de la variable independiente\n",
        "# \"Z\" percent of the variation in the \"y\" data is due to variation in the \"x\" data\n",
        "\n",
        "percent = reg.score(Xs, y)\n",
        "print(\"Precicion Modelo: \",percent,\"\\n\")\n",
        "print(\"Del total de Kg de paltas\",(round(percent,5))*100,\"% aproximadamente son influidas por las variables en la data\")"
      ],
      "execution_count": null,
      "outputs": [
        {
          "output_type": "stream",
          "text": [
            "Precicion Modelo:  0.8070858662144422 \n",
            "\n",
            "Del total de Kg de paltas 80.709 % aproximadamente son influidas por las variables en la data\n"
          ],
          "name": "stdout"
        }
      ]
    },
    {
      "cell_type": "markdown",
      "metadata": {
        "id": "sB68RmlcbEND",
        "colab_type": "text"
      },
      "source": [
        "## Testeo"
      ]
    },
    {
      "cell_type": "code",
      "metadata": {
        "id": "RLF5OVs1bENE",
        "colab_type": "code",
        "colab": {}
      },
      "source": [
        "def Rendimiento(Area,N,P205,K2SO4,CaO,MgO,Zn,Qfe):\n",
        "    Ambos = reg.intercept_[0] + reg.coef_[0][0]*Area + reg.coef_[0][1]*N + reg.coef_[0][2]*P205 + reg.coef_[0][3]*K2SO4 + reg.coef_[0][4]*CaO + reg.coef_[0][5]*MgO + reg.coef_[0][6]*Zn + reg.coef_[0][7]*Qfe\n",
        "    return Ambos\n",
        "    #print(round(Ambos,2),\"t/ha\")"
      ],
      "execution_count": null,
      "outputs": []
    },
    {
      "cell_type": "code",
      "metadata": {
        "id": "vjbKoEFNbENG",
        "colab_type": "code",
        "colab": {},
        "outputId": "1549d12b-471a-4c48-e5a8-050a2519fd9e"
      },
      "source": [
        "round(Rendimiento(0.28,188,54,171,99,38,1.2,0.2),2)"
      ],
      "execution_count": null,
      "outputs": [
        {
          "output_type": "execute_result",
          "data": {
            "text/plain": [
              "-1940.1"
            ]
          },
          "metadata": {
            "tags": []
          },
          "execution_count": 18
        }
      ]
    },
    {
      "cell_type": "markdown",
      "metadata": {
        "id": "KMA_Dt-JbENI",
        "colab_type": "text"
      },
      "source": [
        "## Resultados Test OLS(Ordinary Least Squares)"
      ]
    },
    {
      "cell_type": "code",
      "metadata": {
        "id": "D_X-RdZ8bENI",
        "colab_type": "code",
        "colab": {}
      },
      "source": [
        "X = np.column_stack((data['Area'], data['N'], data['P205'],\n",
        "                     data['K2SO4'],data['CaO'], data['MgO'],\n",
        "                     data['Zn'],data['Qfe']))\n",
        "\n",
        "y = data['Rendimiento']"
      ],
      "execution_count": null,
      "outputs": []
    },
    {
      "cell_type": "code",
      "metadata": {
        "id": "sdLtBSusbENL",
        "colab_type": "code",
        "colab": {}
      },
      "source": [
        "X2 = sm.add_constant(X)"
      ],
      "execution_count": null,
      "outputs": []
    },
    {
      "cell_type": "code",
      "metadata": {
        "id": "LVPMW9LkbENN",
        "colab_type": "code",
        "colab": {}
      },
      "source": [
        "Model = sm.OLS(y, X)\n",
        "Results = Model.fit()"
      ],
      "execution_count": null,
      "outputs": []
    },
    {
      "cell_type": "code",
      "metadata": {
        "id": "erHepEn0bENP",
        "colab_type": "code",
        "colab": {},
        "outputId": "02b928e1-63e4-4f77-b18e-8145dcf8665a"
      },
      "source": [
        "Results.params"
      ],
      "execution_count": null,
      "outputs": [
        {
          "output_type": "execute_result",
          "data": {
            "text/plain": [
              "x1    15841.092161\n",
              "x2    -1716.605192\n",
              "x3     2000.323450\n",
              "x4     1296.113023\n",
              "x5      -24.845602\n",
              "x6     -209.281498\n",
              "x7    -4115.155416\n",
              "x8     9540.220670\n",
              "dtype: float64"
            ]
          },
          "metadata": {
            "tags": []
          },
          "execution_count": 22
        }
      ]
    },
    {
      "cell_type": "code",
      "metadata": {
        "id": "iqKhEZCQbENR",
        "colab_type": "code",
        "colab": {},
        "outputId": "9c85c2ff-aec5-423c-bfb0-5f1cf23db868"
      },
      "source": [
        "Results.tvalues"
      ],
      "execution_count": null,
      "outputs": [
        {
          "output_type": "execute_result",
          "data": {
            "text/plain": [
              "x1    26.794181\n",
              "x2   -14.265493\n",
              "x3    12.356852\n",
              "x4    16.396404\n",
              "x5    -0.315112\n",
              "x6    -1.096971\n",
              "x7    -5.130283\n",
              "x8    11.915337\n",
              "dtype: float64"
            ]
          },
          "metadata": {
            "tags": []
          },
          "execution_count": 23
        }
      ]
    },
    {
      "cell_type": "code",
      "metadata": {
        "id": "zDm24A1ibENT",
        "colab_type": "code",
        "colab": {},
        "outputId": "e95bee5f-3bb8-49e5-d6f3-cefc9d9fd083"
      },
      "source": [
        "print(Results.summary())\n",
        "print(\"\\n\")"
      ],
      "execution_count": null,
      "outputs": [
        {
          "output_type": "stream",
          "text": [
            "                                 OLS Regression Results                                \n",
            "=======================================================================================\n",
            "Dep. Variable:            Rendimiento   R-squared (uncentered):                   0.947\n",
            "Model:                            OLS   Adj. R-squared (uncentered):              0.946\n",
            "Method:                 Least Squares   F-statistic:                              697.5\n",
            "Date:                Mon, 16 Dec 2019   Prob (F-statistic):                   4.76e-194\n",
            "Time:                        18:00:43   Log-Likelihood:                         -3273.0\n",
            "No. Observations:                 320   AIC:                                      6562.\n",
            "Df Residuals:                     312   BIC:                                      6592.\n",
            "Df Model:                           8                                                  \n",
            "Covariance Type:            nonrobust                                                  \n",
            "==============================================================================\n",
            "                 coef    std err          t      P>|t|      [0.025      0.975]\n",
            "------------------------------------------------------------------------------\n",
            "x1          1.584e+04    591.214     26.794      0.000    1.47e+04     1.7e+04\n",
            "x2         -1716.6052    120.333    -14.265      0.000   -1953.371   -1479.839\n",
            "x3          2000.3235    161.880     12.357      0.000    1681.810    2318.837\n",
            "x4          1296.1130     79.049     16.396      0.000    1140.577    1451.649\n",
            "x5           -24.8456     78.847     -0.315      0.753    -179.985     130.293\n",
            "x6          -209.2815    190.781     -1.097      0.274    -584.662     166.099\n",
            "x7         -4115.1554    802.130     -5.130      0.000   -5693.424   -2536.887\n",
            "x8          9540.2207    800.667     11.915      0.000    7964.830    1.11e+04\n",
            "==============================================================================\n",
            "Omnibus:                       10.263   Durbin-Watson:                   1.708\n",
            "Prob(Omnibus):                  0.006   Jarque-Bera (JB):               20.006\n",
            "Skew:                           0.018   Prob(JB):                     4.53e-05\n",
            "Kurtosis:                       4.224   Cond. No.                         682.\n",
            "==============================================================================\n",
            "\n",
            "Warnings:\n",
            "[1] Standard Errors assume that the covariance matrix of the errors is correctly specified.\n",
            "\n",
            "\n"
          ],
          "name": "stdout"
        }
      ]
    },
    {
      "cell_type": "code",
      "metadata": {
        "id": "qaGakfspbENV",
        "colab_type": "code",
        "colab": {}
      },
      "source": [
        "# Arr = []\n",
        "# for x in range(0,40):\n",
        "#     Arr.append(Ambos(x,0.84,148.77,40.89,136.59,17.4,26.97,6.96,1.74,3.48))\n",
        "#     print(\"Parcela \",x+1,\":\\t\",round(Ambos(x,0.84,148.77,40.89,136.59,17.4,26.97,6.96,1.74,3.48),3),\"Kg\")"
      ],
      "execution_count": null,
      "outputs": []
    }
  ]
}